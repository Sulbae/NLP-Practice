{
 "cells": [
  {
   "cell_type": "markdown",
   "metadata": {},
   "source": [
    "# Scraping Dataset"
   ]
  },
  {
   "cell_type": "markdown",
   "metadata": {},
   "source": [
    "### Library"
   ]
  },
  {
   "cell_type": "code",
   "execution_count": 9,
   "metadata": {},
   "outputs": [],
   "source": [
    "from google_play_scraper import app, Sort, reviews_all\n",
    "import pandas as pd\n",
    "pd.options.mode.chained_assignment = None \n",
    "import json, os, uuid"
   ]
  },
  {
   "cell_type": "markdown",
   "metadata": {},
   "source": [
    "### Minning"
   ]
  },
  {
   "cell_type": "code",
   "execution_count": 10,
   "metadata": {},
   "outputs": [
    {
     "name": "stdout",
     "output_type": "stream",
     "text": [
      "{'title': 'GoPay: Transfer and Payment', 'description': \"🏆 GoPay won the Best Application of 2023 on Google Play. Your support means a lot!\\r\\n\\r\\nFREE TRANSFER ANYWHERE\\r\\n- Enjoy free transfer 100x each month.\\r\\n- Send money or transfer to any banks with free admin fee, including BCA, BNI, BRI, BSI, CIMB, Jago, Mandiri, Permata, and other e-wallets (DANA, OVO, ShopeePay).\\r\\n- There's a On-Time Guarantee, you'll receive FREE GoPay Coins if your transfer isn't processed within one minute.\\r\\n- Splitting expense for your lunch bill, collective gifts, or vacations with your friends made easy with GoPay Patungan feature.\\r\\n- Conveniently send THR to your relatives using GoPay.\\r\\n- Share donations with others through our official channels easily.\\r\\n\\r\\nPAY FROM MORE THAN 1,500 DIGITAL SERVICES\\r\\n- Buy pulsa, game vouchers, data package, and more.\\r\\n- Top up your favorite game on mobile, PC, and console.\\r\\n- Pay any bills you have from PLN token, electricity bills, BPJS, water, to streaming services.\\r\\n- Check out at your favorite online commerce and Tokopedia with GoPay.\\r\\n- Pay for Gojek services, like GoFood, GoSend, GoRide, GoCar, and more.\\r\\n- With reminder, you'll always pay bills on time.\\r\\n\\r\\nGROW YOUR MONEY WITH GOPAY TABUNGAN BY JAGO\\r\\n- Earn interest so your money doesn’t just sit idly.\\r\\n- LPS will guarantee your balance & earned interest.\\r\\n- Conventional or Syariah? Choose one that suits your principle.\\r\\n- You can top up any amount to pay for anything.\\r\\n- It takes just 2 minutes to activate and you get to enjoy lots of promos!\\r\\n\\r\\nSCAN ANY QRIS\\r\\n- Find QRIS? Scan at the cashier and pay cashless faster, only in seconds.\\r\\n- Earn even more cashback promo on every transaction with QRIS Unlimited.\\r\\n\\r\\nLOANS WITH GOPAY PINJAM\\r\\n- Online cash loan with limit of up to Rp15 million.\\r\\n- Loan duration, shortest tenure is 61 days, longest tenure is 183 days.\\r\\n- Interest rate (APR) minimum of 17.6% to a maximum of 36% per annum (depending on the loan tenure).\\r\\n- For illustration, for loan amount of Rp1,000,000 with tenure of 93 days, total interest is as follows:\\r\\nTotal interest rate = 17.6%/365 * 93 * Rp1,000,000 = Rp44,742\\r\\nTotal repayment = Rp1,000,000 + Rp44,742 = Rp1,044,742\\r\\nMonthly repayment of Rp348,247\\r\\n\\r\\nTRACK AUTO-RECORDED EXPENSES\\r\\n- Your expenses are automatically recorded and categorized to help you stay in control.\\r\\n- Know how much you spend for food, transport, groceries, shopping, and more for easier budgeting.\\r\\n- Compare your spending from month to month.\\r\\n\\r\\nGOPAY AMAN WITH FULL PROTECTION\\r\\n- Your account is protected with PIN, biometric, Touch & Face ID to secure your transaction.\\r\\n- 24/7 Customer Service ready at your service.\\r\\n- Money Back Guarantee will refund your money in case of unexpected loss.\\r\\n- We keep your data confidential and you're always in control over how it's used.\\r\\n\\r\\nNo matter where you are in Indonesia, we've got your back! Hit that download button, and kick off your financial adventure with, GoPay app, your digital wallet!\\r\\n\\r\\nCheck out GoPay social media accounts and never miss an update:\\r\\nInstagram - @gopayindonesia\\r\\nFacebook - GoPay Indonesia\\r\\nTwitter - @gopayindonesia\\r\\nYouTube - GoPay Indonesia\\r\\n\\r\\nHave questions or complaints with GoPay app service? Reach us at:\\r\\nEmail - customerservice@gopay.co.id\\r\\nCall Center - 1500729\\r\\n\\r\\nPT Dompet Anak Bangsa\\r\\nGedung Pasaraya Blok M, Gedung B, Lt. 3 Jalan Iskandarsyah II No. 2, Melawai, Kebayoran Baru Jakarta Selatan 12160\\r\\nWebsite - gopay.co.id\\r\\nTelephone - 021 213821938\", 'descriptionHTML': '🏆 GoPay won the Best Application of 2023 on Google Play. Your support means a lot!<br><br>FREE TRANSFER ANYWHERE<br>- Enjoy free transfer 100x each month.<br>- Send money or transfer to any banks with free admin fee, including BCA, BNI, BRI, BSI, CIMB, Jago, Mandiri, Permata, and other e-wallets (DANA, OVO, ShopeePay).<br>- There&#39;s a On-Time Guarantee, you&#39;ll receive FREE GoPay Coins if your transfer isn&#39;t processed within one minute.<br>- Splitting expense for your lunch bill, collective gifts, or vacations with your friends made easy with GoPay Patungan feature.<br>- Conveniently send THR to your relatives using GoPay.<br>- Share donations with others through our official channels easily.<br><br>PAY FROM MORE THAN 1,500 DIGITAL SERVICES<br>- Buy pulsa, game vouchers, data package, and more.<br>- Top up your favorite game on mobile, PC, and console.<br>- Pay any bills you have from PLN token, electricity bills, BPJS, water, to streaming services.<br>- Check out at your favorite online commerce and Tokopedia with GoPay.<br>- Pay for Gojek services, like GoFood, GoSend, GoRide, GoCar, and more.<br>- With reminder, you&#39;ll always pay bills on time.<br><br>GROW YOUR MONEY WITH GOPAY TABUNGAN BY JAGO<br>- Earn interest so your money doesn’t just sit idly.<br>- LPS will guarantee your balance &amp; earned interest.<br>- Conventional or Syariah? Choose one that suits your principle.<br>- You can top up any amount to pay for anything.<br>- It takes just 2 minutes to activate and you get to enjoy lots of promos!<br><br>SCAN ANY QRIS<br>- Find QRIS? Scan at the cashier and pay cashless faster, only in seconds.<br>- Earn even more cashback promo on every transaction with QRIS Unlimited.<br><br>LOANS WITH GOPAY PINJAM<br>- Online cash loan with limit of up to Rp15 million.<br>- Loan duration, shortest tenure is 61 days, longest tenure is 183 days.<br>- Interest rate (APR) minimum of 17.6% to a maximum of 36% per annum (depending on the loan tenure).<br>- For illustration, for loan amount of Rp1,000,000 with tenure of 93 days, total interest is as follows:<br>Total interest rate = 17.6%/365 * 93 * Rp1,000,000 = Rp44,742<br>Total repayment = Rp1,000,000 + Rp44,742 = Rp1,044,742<br>Monthly repayment of Rp348,247<br><br>TRACK AUTO-RECORDED EXPENSES<br>- Your expenses are automatically recorded and categorized to help you stay in control.<br>- Know how much you spend for food, transport, groceries, shopping, and more for easier budgeting.<br>- Compare your spending from month to month.<br><br>GOPAY AMAN WITH FULL PROTECTION<br>- Your account is protected with PIN, biometric, Touch &amp; Face ID to secure your transaction.<br>- 24/7 Customer Service ready at your service.<br>- Money Back Guarantee will refund your money in case of unexpected loss.<br>- We keep your data confidential and you&#39;re always in control over how it&#39;s used.<br><br>No matter where you are in Indonesia, we&#39;ve got your back! Hit that download button, and kick off your financial adventure with, GoPay app, your digital wallet!<br><br>Check out GoPay social media accounts and never miss an update:<br>Instagram - @gopayindonesia<br>Facebook - GoPay Indonesia<br>Twitter - @gopayindonesia<br>YouTube - GoPay Indonesia<br><br>Have questions or complaints with GoPay app service? Reach us at:<br>Email - customerservice@gopay.co.id<br>Call Center - 1500729<br><br>PT Dompet Anak Bangsa<br>Gedung Pasaraya Blok M, Gedung B, Lt. 3 Jalan Iskandarsyah II No. 2, Melawai, Kebayoran Baru Jakarta Selatan 12160<br>Website - gopay.co.id<br>Telephone - 021 213821938', 'summary': 'Digital wallet app to transfer, pay bills, top up, saving, and QRIS.', 'installs': '10,000,000+', 'minInstalls': 10000000, 'realInstalls': 28609793, 'score': 4.48, 'ratings': 373721, 'reviews': 99, 'histogram': [32975, 3663, 14655, 18319, 301663], 'price': 0, 'free': True, 'currency': 'USD', 'sale': False, 'saleTime': None, 'originalPrice': None, 'saleText': None, 'offersIAP': False, 'inAppProductPrice': None, 'developer': 'PT. GoTo Gojek Tokopedia Tbk', 'developerId': '4853785597837765677', 'developerEmail': 'customserservice@gopay.co.id', 'developerWebsite': 'https://gopay.co.id/', 'developerAddress': 'Pasaraya Blok M Gedung B Lt. 6, Jalan Iskandarsyah II No.7, RW. 2, Melawai, Kebayoran Baru, RT.3/RW.1, Kota Jakarta Selatan, 12160, Indonesia', 'privacyPolicy': 'https://gopay.co.id/blog/gopay-privacy-notice', 'genre': 'Finance', 'genreId': 'FINANCE', 'categories': [{'name': 'Finance', 'id': 'FINANCE'}], 'icon': 'https://play-lh.googleusercontent.com/-gl80k-nLhRwy_ovgo6o3ro2QX76sAJPpz7-azG-MXeLMaUSYtmZDT3GTM10wKqGMJSZ', 'headerImage': 'https://play-lh.googleusercontent.com/JUhMJ4NsrpKGUpm-Xoz-64uFUSTUzROcGCEW8_Dtx_cO7l5jo6VuD7Bc8ZDz632mTA', 'screenshots': ['https://play-lh.googleusercontent.com/Ad-2Rn5kQqp2sOXT7ey09dE4xFQMPUUF01qWTP28_QJZNAd2hO_uw05eo_a5esrKK20', 'https://play-lh.googleusercontent.com/m_4IUv-VAgklbMPxWBnwCjwap27azYjn3cC5AvXOgIrJq2zTgCFd18iO9i-IZYC1K8Rn', 'https://play-lh.googleusercontent.com/O6K_5xlawfvMUR2Lfh1ovF8yqc0-Wqg7yiuZVV8CxIvg2bxpeY6eWnnfAjb_bsCTfIdM', 'https://play-lh.googleusercontent.com/UJZT6m_bqdiXHBb_f2JCs5bcsMol_l01zNyyagEJpIKnh1EggWWva9WZn8h0HPN_Zgs', 'https://play-lh.googleusercontent.com/Rz_6Hd29OGU50O8tRmg6FtNMoYFyicdcLxXiRPYxYmekaBBFDLzGfPbxmOAFlNC-4YU', 'https://play-lh.googleusercontent.com/KMn0RvDn29riCiKIGByCOzcf6utObbVi_cpykMnrMkJfu-N5xwwYngLjtkdqw5Ccu24', 'https://play-lh.googleusercontent.com/uis0Q6bpC6NViPgRj-GRs5hXcnTbg91m_bbi88o462_luh9EIGeF69mUk2Pi41vKOQ'], 'video': None, 'videoImage': None, 'contentRating': 'Everyone', 'contentRatingDescription': None, 'adSupported': False, 'containsAds': False, 'released': 'Jul 24, 2023', 'lastUpdatedOn': 'Jul 12, 2024', 'updated': 1720775257, 'version': '1.26.1', 'comments': [], 'appId': 'com.gojek.gopay', 'url': 'https://play.google.com/store/apps/details?id=com.gojek.gopay&hl=en&gl=us'}\n"
     ]
    }
   ],
   "source": [
    "app_id = 'com.gojek.gopay' # ID app Gopay di Google Play Store\n",
    "app_info = app(app_id)\n",
    "print(app_info)"
   ]
  },
  {
   "cell_type": "code",
   "execution_count": 11,
   "metadata": {},
   "outputs": [],
   "source": [
    "scrap_reviews = reviews_all(\n",
    "    app_id,\n",
    "    lang='id',\n",
    "    country='id',\n",
    "    sort=Sort.MOST_RELEVANT,\n",
    "    count=20_000\n",
    ")"
   ]
  },
  {
   "cell_type": "code",
   "execution_count": 12,
   "metadata": {},
   "outputs": [],
   "source": [
    "reviews_df = pd.DataFrame(scrap_reviews)\n",
    "reviews_df.to_csv('Scrap_Reviews.csv', index=False)"
   ]
  },
  {
   "cell_type": "code",
   "execution_count": 13,
   "metadata": {},
   "outputs": [],
   "source": [
    "reviews_df = pd.read_csv('Scrap_Reviews.csv')\n",
    "reviews_df = pd.DataFrame(reviews_df)"
   ]
  },
  {
   "cell_type": "code",
   "execution_count": 14,
   "metadata": {},
   "outputs": [
    {
     "data": {
      "text/plain": [
       "(103500, 11)"
      ]
     },
     "execution_count": 14,
     "metadata": {},
     "output_type": "execute_result"
    }
   ],
   "source": [
    "reviews_df.shape"
   ]
  },
  {
   "cell_type": "code",
   "execution_count": 15,
   "metadata": {},
   "outputs": [
    {
     "name": "stdout",
     "output_type": "stream",
     "text": [
      "<class 'pandas.core.frame.DataFrame'>\n",
      "RangeIndex: 103500 entries, 0 to 103499\n",
      "Data columns (total 11 columns):\n",
      " #   Column                Non-Null Count   Dtype \n",
      "---  ------                --------------   ----- \n",
      " 0   reviewId              103500 non-null  object\n",
      " 1   userName              103500 non-null  object\n",
      " 2   userImage             103500 non-null  object\n",
      " 3   content               103500 non-null  object\n",
      " 4   score                 103500 non-null  int64 \n",
      " 5   thumbsUpCount         103500 non-null  int64 \n",
      " 6   reviewCreatedVersion  94130 non-null   object\n",
      " 7   at                    103500 non-null  object\n",
      " 8   replyContent          16438 non-null   object\n",
      " 9   repliedAt             16438 non-null   object\n",
      " 10  appVersion            94130 non-null   object\n",
      "dtypes: int64(2), object(9)\n",
      "memory usage: 8.7+ MB\n"
     ]
    }
   ],
   "source": [
    "reviews_df.info()"
   ]
  }
 ],
 "metadata": {
  "kernelspec": {
   "display_name": "main-ds",
   "language": "python",
   "name": "python3"
  },
  "language_info": {
   "codemirror_mode": {
    "name": "ipython",
    "version": 3
   },
   "file_extension": ".py",
   "mimetype": "text/x-python",
   "name": "python",
   "nbconvert_exporter": "python",
   "pygments_lexer": "ipython3",
   "version": "3.11.9"
  }
 },
 "nbformat": 4,
 "nbformat_minor": 2
}
